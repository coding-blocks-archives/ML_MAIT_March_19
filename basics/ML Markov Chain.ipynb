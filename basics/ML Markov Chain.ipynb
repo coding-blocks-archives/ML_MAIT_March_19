{
 "cells": [
  {
   "cell_type": "code",
   "execution_count": 31,
   "metadata": {},
   "outputs": [],
   "source": [
    "input_data = \"hello hello world world hello\""
   ]
  },
  {
   "cell_type": "code",
   "execution_count": 4,
   "metadata": {},
   "outputs": [],
   "source": [
    "d = {\n",
    "    \"hel\":{\n",
    "        \"\": 1\n",
    "    },\n",
    "    \"lo \":{\n",
    "        \"w\": 1,\n",
    "        \"h\": 1\n",
    "    }\n",
    "}"
   ]
  },
  {
   "cell_type": "code",
   "execution_count": 7,
   "metadata": {},
   "outputs": [
    {
     "name": "stdout",
     "output_type": "stream",
     "text": [
      "at\n"
     ]
    }
   ],
   "source": [
    "a = \"jatin\"\n",
    "print(a[1:3])"
   ]
  },
  {
   "cell_type": "code",
   "execution_count": 8,
   "metadata": {},
   "outputs": [],
   "source": [
    "def createTable(input_str, k = 3):\n",
    "    T = {}\n",
    "    for i in range(0, len(input_str) - k):\n",
    "        X = input_str[ i : i+k ]\n",
    "        Y = input_str[ i+k ]\n",
    "        if X in T:\n",
    "            if Y in T[X]:\n",
    "                T[X][Y] += 1\n",
    "            else:\n",
    "                T[X][Y] = 1\n",
    "        else:\n",
    "            T[X] = {\n",
    "                Y: 1\n",
    "            }\n",
    "    return T"
   ]
  },
  {
   "cell_type": "code",
   "execution_count": 32,
   "metadata": {},
   "outputs": [],
   "source": [
    "model = createTable(input_data)"
   ]
  },
  {
   "cell_type": "code",
   "execution_count": 10,
   "metadata": {},
   "outputs": [],
   "source": [
    "def convertToProb(T):\n",
    "    for key in T:\n",
    "        total = sum(T[key].values())\n",
    "        for y in T[key]:\n",
    "            T[key][y] /= total\n",
    "    return T"
   ]
  },
  {
   "cell_type": "code",
   "execution_count": 33,
   "metadata": {},
   "outputs": [],
   "source": [
    "model = convertToProb(model)"
   ]
  },
  {
   "cell_type": "code",
   "execution_count": 14,
   "metadata": {},
   "outputs": [],
   "source": [
    "a = \"jatin\""
   ]
  },
  {
   "cell_type": "code",
   "execution_count": 19,
   "metadata": {},
   "outputs": [
    {
     "data": {
      "text/plain": [
       "'tin'"
      ]
     },
     "execution_count": 19,
     "metadata": {},
     "output_type": "execute_result"
    }
   ],
   "source": [
    "a[-3:]"
   ]
  },
  {
   "cell_type": "code",
   "execution_count": null,
   "metadata": {},
   "outputs": [],
   "source": [
    "!pip install numpy"
   ]
  },
  {
   "cell_type": "code",
   "execution_count": 20,
   "metadata": {},
   "outputs": [],
   "source": [
    "import numpy"
   ]
  },
  {
   "cell_type": "code",
   "execution_count": 21,
   "metadata": {},
   "outputs": [],
   "source": [
    "def sampleNext(model, input_str):\n",
    "    X = input_str[-3:]\n",
    "    if X in model:\n",
    "        outcomes = list( model[X].keys() )\n",
    "        probs = list( model[X].values() )\n",
    "        \n",
    "        return numpy.random.choice(outcomes, p=probs)\n",
    "    else:\n",
    "        return \" \""
   ]
  },
  {
   "cell_type": "code",
   "execution_count": 25,
   "metadata": {},
   "outputs": [
    {
     "data": {
      "text/plain": [
       "' '"
      ]
     },
     "execution_count": 25,
     "metadata": {},
     "output_type": "execute_result"
    }
   ],
   "source": [
    "sampleNext(model, \"jatin\")"
   ]
  },
  {
   "cell_type": "code",
   "execution_count": 27,
   "metadata": {},
   "outputs": [],
   "source": [
    "def generateText(model, startingString, length = 1000):\n",
    "    for i in range(length):\n",
    "        startingString += sampleNext(model, startingString)\n",
    "    return startingString"
   ]
  },
  {
   "cell_type": "code",
   "execution_count": 34,
   "metadata": {},
   "outputs": [
    {
     "data": {
      "text/plain": [
       "'hello world world hello hello hello hello hello world hello world world hello hello hello world hello world world world hello hello world world hello world world world world world hello hello hello hello hello world hello hello hello hello hello world hello world world hello hello hello world hello hello hello world world world world hello world hello world world hello hello world hello hello world hello world hello hello hello hello world hello world world hello hello hello world world world hello hello world world hello world hello world hello world world hello world world world world world world hello hello hello hello world hello world hello world world hello hello world world world hello hello world hello hello hello world hello world world hello world hello world hello world world hello world hello world hello hello world hello hello world world hello hello world world hello hello hello hello world world world hello hello hello hello world hello hello hello hello hello hello hello wo'"
      ]
     },
     "execution_count": 34,
     "metadata": {},
     "output_type": "execute_result"
    }
   ],
   "source": [
    "generateText(model, \"hell\")"
   ]
  },
  {
   "cell_type": "code",
   "execution_count": null,
   "metadata": {},
   "outputs": [],
   "source": []
  }
 ],
 "metadata": {
  "kernelspec": {
   "display_name": "Python 3",
   "language": "python",
   "name": "python3"
  },
  "language_info": {
   "codemirror_mode": {
    "name": "ipython",
    "version": 3
   },
   "file_extension": ".py",
   "mimetype": "text/x-python",
   "name": "python",
   "nbconvert_exporter": "python",
   "pygments_lexer": "ipython3",
   "version": "3.7.0"
  }
 },
 "nbformat": 4,
 "nbformat_minor": 2
}
